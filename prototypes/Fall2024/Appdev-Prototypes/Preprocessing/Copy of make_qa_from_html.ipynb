{
 "cells": [
  {
   "cell_type": "code",
   "execution_count": null,
   "metadata": {
    "colab": {
     "base_uri": "https://localhost:8080/",
     "height": 211
    },
    "executionInfo": {
     "elapsed": 630,
     "status": "error",
     "timestamp": 1727377487324,
     "user": {
      "displayName": "Jeff Wall",
      "userId": "12311210660530066536"
     },
     "user_tz": 240
    },
    "id": "u8hK8mkRts3B",
    "outputId": "c6def4fe-2f4d-406f-c9e7-88a0d29193d8"
   },
   "outputs": [
    {
     "ename": "FileNotFoundError",
     "evalue": "[Errno 2] No such file or directory: '/home/trkosire/Finance_Database/html_files/opentextlib_html_files/Accounting in the Finance World.html'",
     "output_type": "error",
     "traceback": [
      "\u001b[0;31m---------------------------------------------------------------------------\u001b[0m",
      "\u001b[0;31mFileNotFoundError\u001b[0m                         Traceback (most recent call last)",
      "\u001b[0;32m<ipython-input-1-7935cf3ae0e4>\u001b[0m in \u001b[0;36m<cell line: 6>\u001b[0;34m()\u001b[0m\n\u001b[1;32m      4\u001b[0m \u001b[0mfile_path\u001b[0m \u001b[0;34m=\u001b[0m \u001b[0;34m\"/home/trkosire/Finance_Database/html_files/opentextlib_html_files/Accounting in the Finance World.html\"\u001b[0m\u001b[0;34m\u001b[0m\u001b[0;34m\u001b[0m\u001b[0m\n\u001b[1;32m      5\u001b[0m \u001b[0;34m\u001b[0m\u001b[0m\n\u001b[0;32m----> 6\u001b[0;31m \u001b[0;32mwith\u001b[0m \u001b[0mopen\u001b[0m\u001b[0;34m(\u001b[0m\u001b[0mfile_path\u001b[0m\u001b[0;34m,\u001b[0m \u001b[0;34m'r'\u001b[0m\u001b[0;34m,\u001b[0m \u001b[0mencoding\u001b[0m \u001b[0;34m=\u001b[0m \u001b[0;34m'utf-8'\u001b[0m\u001b[0;34m)\u001b[0m \u001b[0;32mas\u001b[0m \u001b[0mfile\u001b[0m\u001b[0;34m:\u001b[0m\u001b[0;34m\u001b[0m\u001b[0;34m\u001b[0m\u001b[0m\n\u001b[0m\u001b[1;32m      7\u001b[0m     \u001b[0mhtml_content\u001b[0m \u001b[0;34m=\u001b[0m \u001b[0mfile\u001b[0m\u001b[0;34m.\u001b[0m\u001b[0mread\u001b[0m\u001b[0;34m(\u001b[0m\u001b[0;34m)\u001b[0m\u001b[0;34m\u001b[0m\u001b[0;34m\u001b[0m\u001b[0m\n\u001b[1;32m      8\u001b[0m \u001b[0;34m\u001b[0m\u001b[0m\n",
      "\u001b[0;31mFileNotFoundError\u001b[0m: [Errno 2] No such file or directory: '/home/trkosire/Finance_Database/html_files/opentextlib_html_files/Accounting in the Finance World.html'"
     ]
    }
   ],
   "source": [
    "from bs4 import BeautifulSoup\n",
    "import csv\n",
    "#line changed to remove name may not work\n",
    "file_path = \"./Finance_Database/html_files/opentextlib_html_files/Accounting in the Finance World.html\"\n",
    "\n",
    "with open(file_path, 'r', encoding = 'utf-8') as file:\n",
    "    html_content = file.read()\n",
    "\n",
    "soup = BeautifulSoup(html_content, 'html.parser')\n",
    "\n",
    "text_content = soup.get_text(separator = '\\n')\n",
    "\n",
    "lines = text_content.split('\\n')\n",
    "qa_pairs_fixed = []\n",
    "current_question = None\n",
    "current_answer = []\n",
    "is_question_active = False\n",
    "\n",
    "for line in lines:\n",
    "    line = line.strip()\n",
    "\n",
    "    if line.lower().startswith(\"question\"):\n",
    "        if current_question and current_answer:\n",
    "            qa_pairs_fixed.append((current_question.strip(), ' '.join(current_answer).strip()))\n",
    "            current_answer = []\n",
    "\n",
    "        current_question = line.replace(\"Question:\", \"\").strip()\n",
    "        is_question_active = True\n",
    "\n",
    "    elif is_question_active and line.lower().startswith(\"answer\"):\n",
    "        is_question_active = False\n",
    "    elif is_question_active:\n",
    "        current_question += \" \" + line\n",
    "    elif not is_question_active and current_question:\n",
    "        current_answer.append(line)\n",
    "\n",
    "if current_question and current_answer:\n",
    "    qa_pairs_fixed.append((current_question.strip(), ' '.join(current_answer).strip()))\n",
    "\n",
    "output_file = \"finance_questions_answers.csv\"\n",
    "with open(output_file, mode='w', newline='', encoding='utf-8') as file:\n",
    "    writer = csv.writer(file)\n",
    "    writer.writerow([\"Question\", \"Answer\"])\n",
    "    for qa in qa_pairs_fixed:\n",
    "        writer.writerow(qa)\n",
    "\n",
    "output_file\n"
   ]
  },
  {
   "cell_type": "code",
   "execution_count": null,
   "metadata": {
    "id": "hHV8pExcts3F",
    "outputId": "dc04c7ac-e8a4-4d69-833e-22a1732d1913"
   },
   "outputs": [
    {
     "name": "stdout",
     "output_type": "stream",
     "text": [
      "Question: Investors are interested (sometimes almost obsessively interested) in the financial information that is produced by a company based on the rules and principles of financial accounting. They want to use this information to make wise investing decisions. What do investors actually hope to learn about a company from this financial information?\n",
      "Answer: They are attempting to use the provided data to estimate (1) the price of the corporation's stock in the future and (2) the amount of cash dividends that will be paid over time. Despite the complexity of the information, these two goals are rather simplistic. If an investor owns capital shares of a company and feels that the current accounting information signals either a rise in stock prices or strong dividend payments, holding the investment or even buying more shares is probably warranted. Conversely, if careful analysis indicates a possible drop in stock price or a reduction in dividend payments, sale of the stock is likely to be the appropriate action.   Interestingly, by the nature of the market, any exchange of ownership shares means that the buyer has studied available information and believes the future to be relatively optimistic for the business in question. In contrast, the seller has looked at similar data and arrived at a pessimistic outlook.   Exercise Link to multiple-choice question for practice purposes: http://www.quia.com/quiz/2092616.html Question: Are there reasons to analyze the financial accounting information produced by a particular business other than to help investors predict stock prices and cash dividend payments?  Answer: The desire to analyze a company's financial situation is not limited to investors in the stock market. For example, as discussed previously, a loan might be requested from a bank or one company could be considering the sale of its merchandise to another on credit. Such obligations eventually require payment. Therefore, a sizeable portion of the parties that study the financial information reported by an organization is probably most interested in the likelihood that money will be available to pay its debts. Future stock prices and cash dividend distributions are much less significant speculations for a creditor. The same financial data utilized by investors buying or selling stock will also be of benefit to current and potential creditors. However, this second group is likely to focus its attention on particular elements of the information such as the amount of the company's debt, when that debt is scheduled to come due, and the perceived ability to generate cash to meet those demands in a timely fashion. Ultimately, creditors attempt to anticipate the organization's cash flows to measure the risk that debt principal and interest payments might not be forthcoming when due . Therefore, millions of individuals use reported financial information to assess various business organizations in order to make three predictions: 1 Future stock market prices for the capital shares issued by the company   Future cash dividend distributions Future ability to generate sufficient cash to meet debts as they mature       The first two relate to investors in the capital stock of the company; the last is of more significance to a creditor. Question: The term \"financial information\" comes up frequently in these discussions. What is meant by financial information?  Answer: The financial information reported by and about an organization consists of data that can be measured in monetary terms.   For example, if a building cost $4 million to acquire, that is financial information as is the assertion that a company owes a debt of $700,000 to a bank. In both cases, relevant information is communicated to decision makers as a monetary balance. However, if a company has eight thousand employees, that number might be interesting but it is not financial information. The figure is not a dollar amount; it is not stated in the form that is useful for decision-making purposes. Assuming that those workers were paid a total of $500 million during the current year, then that number is financial information because it is stated in terms of the money spent. Likewise, a men's clothing store does not include in its financial information that it holds ten thousand shirts to be sold. Instead, the company reports that it currently owns shirts for sale (inventory) with a cost of, perhaps, $300,000. Or, after having sold these items to customers, the company could explain that it had made sales during the period for a total of $500,000. Question: The value of reported data seems somewhat restricted if it only includes dollar amounts. Is financial information limited solely to figures that can be stated in monetary terms?  Answer: Although financial accounting starts by reporting balances as monetary amounts, the communication process does not stop there. Verbal explanations as well as additional numerical data are also provided to clarify or expand the information where necessary. To illustrate, assume that an organization is the subject of a lawsuit and estimates an eventual loss of $750,000. This is financial information to be reported based on the rules of financial accounting. However, the organization must also communicate other nonfinancial information such as the cause of the lawsuit and the likelihood that the loss will actually occur. Thus, accounting actually communicates to decision makers in two distinct steps: 1. Financial information is provided in monetary terms 2. Further explanation is given to clarify and expand on those monetary balances   Throughout the world, investors buy and sell the capital stock of thousands of businesses. Others choose to loan money to these same organizations. Such decisions are based on assessing potential risks and rewards. Financial accounting provides information to these interested parties to help them evaluate the possibility of stock value appreciation, cash dividend distributions, and the ability to generate cash to meet obligations as they come due. This information is financial in nature, meaning that it is stated in monetary terms. However, such numerical information alone is too limited. Thus, financial accounting provides financial information as well as clarifying verbal explanations to assist users in evaluating the financial health and potential of a particular organization.   Talking With A Real Investing Pro   Kevin G. Burns is a partner in his own registered investment advisory firm, LLBH Private Wealth Management, an   organization that specializes in asset management, concentrated stock strategies, and wealth transfer. LLBH consults on investing strategies for assets of nearly $1 billion. Before starting his own firm in October 2008, he was first vice president of Merrill Lynch Private Banking and Investment Group. Burns began his career on Wall Street in 1981 at Paine Webber. He has also worked at Oppenheimer & Co. and Smith Barney. Burns has appeared several times on the CBS Evening News. He has been kind enough to agree to be interviewed about his opinions and experiences in using accounting information. His firm's Web site is http://www.LLBHprivatewealthmanagement.com.\n",
      "\n",
      "Question: In Chapter 1 \"Why Is Financial Accounting Important?\", mention was made that financial accounting is somewhat analogous to the painting of a giant, complex portrait. How could financial accounting possibly be compared to an artistic endeavor such as the creation of a painting?\n",
      "Answer: Accounting terms such as representational faithfulness and presents fairly are commonly used to indicate that reported financial information successfully provides a reasonable picture of the financial position, operations, cash flows, and overall economic vitality of a reporting organization. In accounting, this portrait is created in the form of financial statements. These statements provide the form and structure for the conveyance of financial information to describe a particular organization. This textbook is about the preparation of those financial statements and the meaning of their contents.   A human portrait, even by a master such as Rembrandt, is not terribly precise. The shape of the person's chin or the turn of the neck may be off slightly; the color of the eyes and hair cannot possibly be a perfect replica of life. It is a painted portrait, not a photograph (which is much more mechanically accurate). However, absolute exactness is not a necessary element for capturing a proper likeness. Success is achieved when a viewer exclaims, \"I know that person!\" Exact precision is not required to meet that objective.   Despite public perception, financial accounting information is rarely exact. For example, the reported cost of constructing a building may be off slightly because of the sheer volume of money being spent on the many different aspects of the project. No one expects the reported cost of a $50 million manufacturing plant to be accurate to the penny. As with the painted portrait, that does not necessarily reduce the usefulness of the data. If financial information is a fair representation, an interested party should be able to make use of it to arrive at the desired projections. A potential investor or creditor does not need numbers that are absolutely accurate in order to assert, \"Based on the available financial information, I understand enough about this company to make informed decisions. Even if I could obtain figures that were precise, I believe that I would still take the same actions.\" An artist applies oil paints, pastels, or watercolors to a canvas to capture the essence of a subject. An accountant does something quite similar by using numbers and words. The goal is much the same: to capture a likeness that truly reflects the essence of the model.   Exercise   Link to multiple-choice question for practice purposes: http://www.quia.com/quiz/2092599.html Question: This is a surprising, possibly shocking, revelation. Financial accounting information has universally been branded as   exhibiting rigid exactness. In fact, accountants are often referred to as \"bean counters\" because of their perceived need to count every bean in the bowl to arrive at obsessively accurate numbers. Here, though, the assertion is made that accounting information is not a precise picture but merely a fair representation of an organization's financial health and prospects. How correct or exact is the financial information that is reported by a business or other organization? Answer: In accounting, materiality has long been the underlying benchmark in the reporting of information. This concept requires that data presented by an organization to decision makers should never contain any material misstatements. For financial accounting information, this is the basic standard for the required level of accuracy. Decision makers want financial statementssuch as those prepared by Starbucks or Intel—to contain no material misstatements. Because of their central role in this reporting       process, understanding the terms \"misstatement\" and \"material\" is essential for any student seeking to understand financial accounting.   A misstatement is an error (made accidentally) or fraud (done intentionally) where reported figures or words actually differ from the underlying reality. For example, a company official could erroneously record a $100,000 expenditure that was made to acquire a new building as actually pertaining to the purchase of land. Consequently, the building's cost might be reported as $2.3 million when it was actually $2.4 million. This financial information is misstated. The balance presented for the building contains a $100,000 misstatement, as does the figure shown for land. A misstatement is judged to be material if it is so significant that its presence would impact a decision made by an interested party. Using the above illustration, assume the accidental $100,000 reduction in the reported cost of this building leads an outside decision maker to alter a choice being made (such as whether to buy or sell capital stock, the price to exchange for such shares, or whether to grant a loan). Because of that outcome, the misstatement is material by definition. Financial information can (and almost always does) contain misstatements. However, the reporting entity must take adequate precautions to ensure that the information holds no material misstatements for the simple reason that the data can no longer be considered fairly presented. The portrait of the company does not properly look like the model if it contains any material misstatements. The decision maker is being misled.   The concept of materiality can seem rather nebulous. For a small convenience store, a $10 misstatement is clearly not material whereas a $10 million one certainly is. For a company with real estate holdings of $30 billion, even a $10 million misstatement is probably not material. The problem for the accountant is determining where to draw the line for each organization. That is one of the most difficult decisions for any financial accountant. An exact dollar amount for materiality is virtually impossible to identify because it is a measure of the effect on an external party's judgment. Other than sheer magnitude, the cause of the problem must also be taken into consideration. An accidental mistake of $100,000 is probably less likely to be material than one of $100,000 that resulted from a fraudulent act. Both the size and cause should be weighed in judging whether the presence of a misstatement has the ability to impact a decision maker's actions. Therefore, a financial accountant never claims that reported information is correct, accurate, or exact. Such precision is rarely possible and not needed when decision makers are analyzing the financial health and prospects of an organization. However, the accountant must take all precautions necessary to ensure that the data contain no material misstatements. Thus, financial figures are never released without reasonable assurance being obtained that no errors or other mistakes are present that could impact the decisions that will be made. All parties need to believe that reported information can be used with confidence in order to evaluate the financial condition and prospects of the organization as a whole.   When a company reports that a building was constructed at a cost of $2.3 million, the real message is that the cost was not materially different from $2.3 million. This figure is a fair representation of the amount spent, one that can be used in making decisions about the organization's current financial situation as well as its future prospects.     Link to multiple-choice question for practice purposes: http://www.quia.com/quiz/2092618.html   Financial accounting does not attempt to provide exact numbers because such accuracy is often impossible to achieve and not really required by decision makers. Instead, reported accounting information is intended to provide a likeness of an organization and its operations—a type of portrait. To achieve this goal, the balances and other data cannot contain any material misstatements. A misstatement is inaccurate information reported by accident (an error) or intentionally (fraud). Materiality refers to the point at which the size or the nature of such misstatements would cause a change in the decisions made by an individual using that information. If all material misstatements can be eliminated, interested parties should be able to use the information to make considered decisions.   This page titled 2.1: Creating a Portrait of an Organization That Can Be Used by Decision Makers is shared under a CC BY-NC-SA license and   was authored, remixed, and/or curated by Anonymous via source content that was edited to the style and standards of the LibreTexts platform; a detailed edit history is available upon request.   2.2: Dealing With Uncertainty       Learning Objectives At the end of this section, students should be able to meet the following objectives: 1. Discuss the challenge created for financial accountants by the presence of uncertainty.     List examples of uncertainty that a financial accountant might face in reporting financial information. 3. Explain how financial accounting resembles a language.\n",
      "\n"
     ]
    }
   ],
   "source": [
    "for question, answer in qa_pairs_fixed[2:4]:\n",
    "    print(\"Question:\", question)\n",
    "    print(\"Answer:\", answer)\n",
    "    print()"
   ]
  },
  {
   "cell_type": "code",
   "execution_count": null,
   "metadata": {
    "id": "xm3fhkf9ts3G",
    "outputId": "9108b234-f73f-4793-df3b-260259b9b810"
   },
   "outputs": [
    {
     "data": {
      "text/html": [
       "<div>\n",
       "<style scoped>\n",
       "    .dataframe tbody tr th:only-of-type {\n",
       "        vertical-align: middle;\n",
       "    }\n",
       "\n",
       "    .dataframe tbody tr th {\n",
       "        vertical-align: top;\n",
       "    }\n",
       "\n",
       "    .dataframe thead th {\n",
       "        text-align: right;\n",
       "    }\n",
       "</style>\n",
       "<table border=\"1\" class=\"dataframe\">\n",
       "  <thead>\n",
       "    <tr style=\"text-align: right;\">\n",
       "      <th></th>\n",
       "      <th>Question</th>\n",
       "      <th>Answer</th>\n",
       "    </tr>\n",
       "  </thead>\n",
       "  <tbody>\n",
       "    <tr>\n",
       "      <th>0</th>\n",
       "      <td>This textbook professes to be an introduction ...</td>\n",
       "      <td>(such as a charity or government) so that indi...</td>\n",
       "    </tr>\n",
       "    <tr>\n",
       "      <th>1</th>\n",
       "      <td>Above, in discussing the possible decisions th...</td>\n",
       "      <td>Therefore, a corporation is an organization th...</td>\n",
       "    </tr>\n",
       "    <tr>\n",
       "      <th>2</th>\n",
       "      <td>Investors are interested (sometimes almost obs...</td>\n",
       "      <td>They are attempting to use the provided data t...</td>\n",
       "    </tr>\n",
       "    <tr>\n",
       "      <th>3</th>\n",
       "      <td>In Chapter 1 \"Why Is Financial Accounting Impo...</td>\n",
       "      <td>Accounting terms such as representational fait...</td>\n",
       "    </tr>\n",
       "    <tr>\n",
       "      <th>4</th>\n",
       "      <td>Absolute accuracy is not necessary in order to...</td>\n",
       "      <td>Likewise, a cash balance shown as $785.16 is e...</td>\n",
       "    </tr>\n",
       "    <tr>\n",
       "      <th>...</th>\n",
       "      <td>...</td>\n",
       "      <td>...</td>\n",
       "    </tr>\n",
       "    <tr>\n",
       "      <th>109</th>\n",
       "      <td>The net cash inflow or outflow generated by op...</td>\n",
       "      <td>For illustration purposes, assume that that Li...</td>\n",
       "    </tr>\n",
       "    <tr>\n",
       "      <th>110</th>\n",
       "      <td>As mentioned, most organizations do not choose...</td>\n",
       "      <td>Noncash items are removed.       Nonoperationa...</td>\n",
       "    </tr>\n",
       "    <tr>\n",
       "      <th>111</th>\n",
       "      <td>In the income statement presented above for th...</td>\n",
       "      <td>In applying the indirect method, a negative is...</td>\n",
       "    </tr>\n",
       "    <tr>\n",
       "      <th>112</th>\n",
       "      <td>For the year ended September 27, 2008, The Wal...</td>\n",
       "      <td>Figure 17.10 Account Balances for Illustration...</td>\n",
       "    </tr>\n",
       "    <tr>\n",
       "      <th>113</th>\n",
       "      <td>The three sections of the statement of cash fl...</td>\n",
       "      <td>1. Start with net income, either the balance f...</td>\n",
       "    </tr>\n",
       "  </tbody>\n",
       "</table>\n",
       "<p>114 rows × 2 columns</p>\n",
       "</div>"
      ],
      "text/plain": [
       "                                              Question  \\\n",
       "0    This textbook professes to be an introduction ...   \n",
       "1    Above, in discussing the possible decisions th...   \n",
       "2    Investors are interested (sometimes almost obs...   \n",
       "3    In Chapter 1 \"Why Is Financial Accounting Impo...   \n",
       "4    Absolute accuracy is not necessary in order to...   \n",
       "..                                                 ...   \n",
       "109  The net cash inflow or outflow generated by op...   \n",
       "110  As mentioned, most organizations do not choose...   \n",
       "111  In the income statement presented above for th...   \n",
       "112  For the year ended September 27, 2008, The Wal...   \n",
       "113  The three sections of the statement of cash fl...   \n",
       "\n",
       "                                                Answer  \n",
       "0    (such as a charity or government) so that indi...  \n",
       "1    Therefore, a corporation is an organization th...  \n",
       "2    They are attempting to use the provided data t...  \n",
       "3    Accounting terms such as representational fait...  \n",
       "4    Likewise, a cash balance shown as $785.16 is e...  \n",
       "..                                                 ...  \n",
       "109  For illustration purposes, assume that that Li...  \n",
       "110  Noncash items are removed.       Nonoperationa...  \n",
       "111  In applying the indirect method, a negative is...  \n",
       "112  Figure 17.10 Account Balances for Illustration...  \n",
       "113  1. Start with net income, either the balance f...  \n",
       "\n",
       "[114 rows x 2 columns]"
      ]
     },
     "execution_count": 7,
     "metadata": {},
     "output_type": "execute_result"
    }
   ],
   "source": [
    "import pandas as pd\n",
    "\n",
    "qa_df =  pd.read_csv(output_file)\n",
    "qa_df"
   ]
  },
  {
   "cell_type": "code",
   "execution_count": null,
   "metadata": {
    "id": "_tT3Ck7rts3G"
   },
   "outputs": [],
   "source": [
    "pd.set_option('display.max_colwidth', None)\n"
   ]
  },
  {
   "cell_type": "code",
   "execution_count": null,
   "metadata": {
    "id": "DN1V2u9Gts3G",
    "outputId": "436e14fc-b9e5-4a5c-ff2f-a7c7c8396b57"
   },
   "outputs": [
    {
     "data": {
      "text/plain": [
       "6528.709090909091"
      ]
     },
     "execution_count": 16,
     "metadata": {},
     "output_type": "execute_result"
    }
   ],
   "source": [
    "# avg length of answers\n",
    "qa_df['Answer'].str.len().mean()"
   ]
  },
  {
   "cell_type": "code",
   "execution_count": null,
   "metadata": {
    "id": "Umm-lzxcts3H",
    "outputId": "b9bf0c3c-fd44-411d-ba78-d3ae9fbb39a0"
   },
   "outputs": [
    {
     "data": {
      "text/plain": [
       "1015.4909090909091"
      ]
     },
     "execution_count": 17,
     "metadata": {},
     "output_type": "execute_result"
    }
   ],
   "source": [
    "# avg token length of answers\n",
    "qa_df['Answer'].str.split().str.len().mean()"
   ]
  },
  {
   "cell_type": "code",
   "execution_count": null,
   "metadata": {
    "id": "d6xJNVmnts3H",
    "outputId": "c5ad925d-b39b-497e-f06b-3d217b6dad64"
   },
   "outputs": [
    {
     "data": {
      "text/plain": [
       "Question    0\n",
       "Answer      4\n",
       "dtype: int64"
      ]
     },
     "execution_count": 18,
     "metadata": {},
     "output_type": "execute_result"
    }
   ],
   "source": [
    "qa_df.isnull().sum()"
   ]
  },
  {
   "cell_type": "code",
   "execution_count": null,
   "metadata": {
    "id": "5kSqZCN9ts3H"
   },
   "outputs": [],
   "source": []
  }
 ],
 "metadata": {
  "colab": {
   "provenance": []
  },
  "kernelspec": {
   "display_name": "database_env",
   "language": "python",
   "name": "python3"
  },
  "language_info": {
   "codemirror_mode": {
    "name": "ipython",
    "version": 3
   },
   "file_extension": ".py",
   "mimetype": "text/x-python",
   "name": "python",
   "nbconvert_exporter": "python",
   "pygments_lexer": "ipython3",
   "version": "3.12.2"
  }
 },
 "nbformat": 4,
 "nbformat_minor": 0
}
